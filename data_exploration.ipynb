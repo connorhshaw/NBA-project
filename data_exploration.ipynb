{
  "nbformat": 4,
  "nbformat_minor": 0,
  "metadata": {
    "colab": {
      "provenance": [],
      "authorship_tag": "ABX9TyNMP51cNZrB6ftBbFLX4Gsv",
      "include_colab_link": true
    },
    "kernelspec": {
      "name": "python3",
      "display_name": "Python 3"
    },
    "language_info": {
      "name": "python"
    }
  },
  "cells": [
    {
      "cell_type": "markdown",
      "metadata": {
        "id": "view-in-github",
        "colab_type": "text"
      },
      "source": [
        "<a href=\"https://colab.research.google.com/github/connorhshaw/NBA-project/blob/merge-branch/data_exploration.ipynb\" target=\"_parent\"><img src=\"https://colab.research.google.com/assets/colab-badge.svg\" alt=\"Open In Colab\"/></a>"
      ]
    },
    {
      "cell_type": "code",
      "execution_count": 1,
      "metadata": {
        "id": "ecfs6VHqw3gb"
      },
      "outputs": [],
      "source": [
        "import pandas as pd\n",
        "import matplotlib as mp"
      ]
    },
    {
      "cell_type": "code",
      "source": [
        "#df = pd.read_csv(\"wrangled-data\")"
      ],
      "metadata": {
        "id": "ZnVJ94jyw_4O"
      },
      "execution_count": null,
      "outputs": []
    }
  ]
}